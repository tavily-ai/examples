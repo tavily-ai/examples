{
 "cells": [
  {
   "cell_type": "markdown",
   "metadata": {
    "id": "vVdtcEDEW9hU"
   },
   "source": [
    "# Notebook App for Research Assistant Agent Using LangGrpah and Tavily"
   ]
  },
  {
   "cell_type": "markdown",
   "metadata": {},
   "source": [
    "## Requirements"
   ]
  },
  {
   "cell_type": "code",
   "execution_count": 1,
   "metadata": {},
   "outputs": [
    {
     "name": "stdout",
     "output_type": "stream",
     "text": [
      "Requirement already satisfied: langchain_cohere in /Users/maitarasher/anaconda3/envs/tavily/lib/python3.12/site-packages (0.2.2)\n",
      "Requirement already satisfied: langchain-core in /Users/maitarasher/anaconda3/envs/tavily/lib/python3.12/site-packages (0.2.30)\n",
      "Requirement already satisfied: langgraph in /Users/maitarasher/anaconda3/envs/tavily/lib/python3.12/site-packages (0.1.5)\n",
      "Requirement already satisfied: python-dotenv in /Users/maitarasher/anaconda3/envs/tavily/lib/python3.12/site-packages (1.0.1)\n",
      "Requirement already satisfied: cohere<6.0,>=5.5.6 in /Users/maitarasher/anaconda3/envs/tavily/lib/python3.12/site-packages (from langchain_cohere) (5.8.0)\n",
      "Requirement already satisfied: langchain-experimental>=0.0.6 in /Users/maitarasher/anaconda3/envs/tavily/lib/python3.12/site-packages (from langchain_cohere) (0.0.64)\n",
      "Requirement already satisfied: pandas>=1.4.3 in /Users/maitarasher/anaconda3/envs/tavily/lib/python3.12/site-packages (from langchain_cohere) (2.2.2)\n",
      "Requirement already satisfied: tabulate<0.10.0,>=0.9.0 in /Users/maitarasher/anaconda3/envs/tavily/lib/python3.12/site-packages (from langchain_cohere) (0.9.0)\n",
      "Requirement already satisfied: PyYAML>=5.3 in /Users/maitarasher/anaconda3/envs/tavily/lib/python3.12/site-packages (from langchain-core) (6.0.1)\n",
      "Requirement already satisfied: jsonpatch<2.0,>=1.33 in /Users/maitarasher/anaconda3/envs/tavily/lib/python3.12/site-packages (from langchain-core) (1.33)\n",
      "Requirement already satisfied: langsmith<0.2.0,>=0.1.75 in /Users/maitarasher/anaconda3/envs/tavily/lib/python3.12/site-packages (from langchain-core) (0.1.83)\n",
      "Requirement already satisfied: packaging<25,>=23.2 in /Users/maitarasher/anaconda3/envs/tavily/lib/python3.12/site-packages (from langchain-core) (24.1)\n",
      "Requirement already satisfied: pydantic<3.0.0,>=2.7.4 in /Users/maitarasher/anaconda3/envs/tavily/lib/python3.12/site-packages (from langchain-core) (2.8.0)\n",
      "Requirement already satisfied: tenacity!=8.4.0,<9.0.0,>=8.1.0 in /Users/maitarasher/anaconda3/envs/tavily/lib/python3.12/site-packages (from langchain-core) (8.4.2)\n",
      "Requirement already satisfied: typing-extensions>=4.7 in /Users/maitarasher/anaconda3/envs/tavily/lib/python3.12/site-packages (from langchain-core) (4.12.2)\n",
      "Requirement already satisfied: boto3<2.0.0,>=1.34.0 in /Users/maitarasher/anaconda3/envs/tavily/lib/python3.12/site-packages (from cohere<6.0,>=5.5.6->langchain_cohere) (1.34.160)\n",
      "Requirement already satisfied: fastavro<2.0.0,>=1.9.4 in /Users/maitarasher/anaconda3/envs/tavily/lib/python3.12/site-packages (from cohere<6.0,>=5.5.6->langchain_cohere) (1.9.5)\n",
      "Requirement already satisfied: httpx>=0.21.2 in /Users/maitarasher/anaconda3/envs/tavily/lib/python3.12/site-packages (from cohere<6.0,>=5.5.6->langchain_cohere) (0.27.0)\n",
      "Requirement already satisfied: httpx-sse==0.4.0 in /Users/maitarasher/anaconda3/envs/tavily/lib/python3.12/site-packages (from cohere<6.0,>=5.5.6->langchain_cohere) (0.4.0)\n",
      "Requirement already satisfied: parameterized<0.10.0,>=0.9.0 in /Users/maitarasher/anaconda3/envs/tavily/lib/python3.12/site-packages (from cohere<6.0,>=5.5.6->langchain_cohere) (0.9.0)\n",
      "Requirement already satisfied: pydantic-core<3.0.0,>=2.18.2 in /Users/maitarasher/anaconda3/envs/tavily/lib/python3.12/site-packages (from cohere<6.0,>=5.5.6->langchain_cohere) (2.20.0)\n",
      "Requirement already satisfied: requests<3.0.0,>=2.0.0 in /Users/maitarasher/anaconda3/envs/tavily/lib/python3.12/site-packages (from cohere<6.0,>=5.5.6->langchain_cohere) (2.32.3)\n",
      "Requirement already satisfied: tokenizers<1,>=0.15 in /Users/maitarasher/anaconda3/envs/tavily/lib/python3.12/site-packages (from cohere<6.0,>=5.5.6->langchain_cohere) (0.20.0)\n",
      "Requirement already satisfied: types-requests<3.0.0,>=2.0.0 in /Users/maitarasher/anaconda3/envs/tavily/lib/python3.12/site-packages (from cohere<6.0,>=5.5.6->langchain_cohere) (2.32.0.20240712)\n",
      "Requirement already satisfied: jsonpointer>=1.9 in /Users/maitarasher/anaconda3/envs/tavily/lib/python3.12/site-packages (from jsonpatch<2.0,>=1.33->langchain-core) (3.0.0)\n",
      "Requirement already satisfied: langchain-community<0.3.0,>=0.2.10 in /Users/maitarasher/anaconda3/envs/tavily/lib/python3.12/site-packages (from langchain-experimental>=0.0.6->langchain_cohere) (0.2.12)\n",
      "Requirement already satisfied: orjson<4.0.0,>=3.9.14 in /Users/maitarasher/anaconda3/envs/tavily/lib/python3.12/site-packages (from langsmith<0.2.0,>=0.1.75->langchain-core) (3.10.6)\n",
      "Requirement already satisfied: numpy>=1.26.0 in /Users/maitarasher/anaconda3/envs/tavily/lib/python3.12/site-packages (from pandas>=1.4.3->langchain_cohere) (1.26.4)\n",
      "Requirement already satisfied: python-dateutil>=2.8.2 in /Users/maitarasher/anaconda3/envs/tavily/lib/python3.12/site-packages (from pandas>=1.4.3->langchain_cohere) (2.9.0.post0)\n",
      "Requirement already satisfied: pytz>=2020.1 in /Users/maitarasher/anaconda3/envs/tavily/lib/python3.12/site-packages (from pandas>=1.4.3->langchain_cohere) (2024.1)\n",
      "Requirement already satisfied: tzdata>=2022.7 in /Users/maitarasher/anaconda3/envs/tavily/lib/python3.12/site-packages (from pandas>=1.4.3->langchain_cohere) (2024.1)\n",
      "Requirement already satisfied: annotated-types>=0.4.0 in /Users/maitarasher/anaconda3/envs/tavily/lib/python3.12/site-packages (from pydantic<3.0.0,>=2.7.4->langchain-core) (0.7.0)\n",
      "Requirement already satisfied: botocore<1.35.0,>=1.34.160 in /Users/maitarasher/anaconda3/envs/tavily/lib/python3.12/site-packages (from boto3<2.0.0,>=1.34.0->cohere<6.0,>=5.5.6->langchain_cohere) (1.34.160)\n",
      "Requirement already satisfied: jmespath<2.0.0,>=0.7.1 in /Users/maitarasher/anaconda3/envs/tavily/lib/python3.12/site-packages (from boto3<2.0.0,>=1.34.0->cohere<6.0,>=5.5.6->langchain_cohere) (1.0.1)\n",
      "Requirement already satisfied: s3transfer<0.11.0,>=0.10.0 in /Users/maitarasher/anaconda3/envs/tavily/lib/python3.12/site-packages (from boto3<2.0.0,>=1.34.0->cohere<6.0,>=5.5.6->langchain_cohere) (0.10.2)\n",
      "Requirement already satisfied: anyio in /Users/maitarasher/anaconda3/envs/tavily/lib/python3.12/site-packages (from httpx>=0.21.2->cohere<6.0,>=5.5.6->langchain_cohere) (4.4.0)\n",
      "Requirement already satisfied: certifi in /Users/maitarasher/anaconda3/envs/tavily/lib/python3.12/site-packages (from httpx>=0.21.2->cohere<6.0,>=5.5.6->langchain_cohere) (2024.6.2)\n",
      "Requirement already satisfied: httpcore==1.* in /Users/maitarasher/anaconda3/envs/tavily/lib/python3.12/site-packages (from httpx>=0.21.2->cohere<6.0,>=5.5.6->langchain_cohere) (1.0.5)\n",
      "Requirement already satisfied: idna in /Users/maitarasher/anaconda3/envs/tavily/lib/python3.12/site-packages (from httpx>=0.21.2->cohere<6.0,>=5.5.6->langchain_cohere) (2.10)\n",
      "Requirement already satisfied: sniffio in /Users/maitarasher/anaconda3/envs/tavily/lib/python3.12/site-packages (from httpx>=0.21.2->cohere<6.0,>=5.5.6->langchain_cohere) (1.3.1)\n",
      "Requirement already satisfied: h11<0.15,>=0.13 in /Users/maitarasher/anaconda3/envs/tavily/lib/python3.12/site-packages (from httpcore==1.*->httpx>=0.21.2->cohere<6.0,>=5.5.6->langchain_cohere) (0.14.0)\n",
      "Requirement already satisfied: SQLAlchemy<3,>=1.4 in /Users/maitarasher/anaconda3/envs/tavily/lib/python3.12/site-packages (from langchain-community<0.3.0,>=0.2.10->langchain-experimental>=0.0.6->langchain_cohere) (2.0.31)\n",
      "Requirement already satisfied: aiohttp<4.0.0,>=3.8.3 in /Users/maitarasher/anaconda3/envs/tavily/lib/python3.12/site-packages (from langchain-community<0.3.0,>=0.2.10->langchain-experimental>=0.0.6->langchain_cohere) (3.9.5)\n",
      "Requirement already satisfied: dataclasses-json<0.7,>=0.5.7 in /Users/maitarasher/anaconda3/envs/tavily/lib/python3.12/site-packages (from langchain-community<0.3.0,>=0.2.10->langchain-experimental>=0.0.6->langchain_cohere) (0.6.7)\n",
      "Requirement already satisfied: langchain<0.3.0,>=0.2.13 in /Users/maitarasher/anaconda3/envs/tavily/lib/python3.12/site-packages (from langchain-community<0.3.0,>=0.2.10->langchain-experimental>=0.0.6->langchain_cohere) (0.2.13)\n",
      "Requirement already satisfied: six>=1.5 in /Users/maitarasher/anaconda3/envs/tavily/lib/python3.12/site-packages (from python-dateutil>=2.8.2->pandas>=1.4.3->langchain_cohere) (1.16.0)\n",
      "Requirement already satisfied: charset-normalizer<4,>=2 in /Users/maitarasher/anaconda3/envs/tavily/lib/python3.12/site-packages (from requests<3.0.0,>=2.0.0->cohere<6.0,>=5.5.6->langchain_cohere) (3.3.2)\n",
      "Requirement already satisfied: urllib3<3,>=1.21.1 in /Users/maitarasher/anaconda3/envs/tavily/lib/python3.12/site-packages (from requests<3.0.0,>=2.0.0->cohere<6.0,>=5.5.6->langchain_cohere) (2.2.2)\n",
      "Requirement already satisfied: huggingface-hub<1.0,>=0.16.4 in /Users/maitarasher/anaconda3/envs/tavily/lib/python3.12/site-packages (from tokenizers<1,>=0.15->cohere<6.0,>=5.5.6->langchain_cohere) (0.24.5)\n",
      "Requirement already satisfied: aiosignal>=1.1.2 in /Users/maitarasher/anaconda3/envs/tavily/lib/python3.12/site-packages (from aiohttp<4.0.0,>=3.8.3->langchain-community<0.3.0,>=0.2.10->langchain-experimental>=0.0.6->langchain_cohere) (1.3.1)\n",
      "Requirement already satisfied: attrs>=17.3.0 in /Users/maitarasher/anaconda3/envs/tavily/lib/python3.12/site-packages (from aiohttp<4.0.0,>=3.8.3->langchain-community<0.3.0,>=0.2.10->langchain-experimental>=0.0.6->langchain_cohere) (23.2.0)\n",
      "Requirement already satisfied: frozenlist>=1.1.1 in /Users/maitarasher/anaconda3/envs/tavily/lib/python3.12/site-packages (from aiohttp<4.0.0,>=3.8.3->langchain-community<0.3.0,>=0.2.10->langchain-experimental>=0.0.6->langchain_cohere) (1.4.1)\n",
      "Requirement already satisfied: multidict<7.0,>=4.5 in /Users/maitarasher/anaconda3/envs/tavily/lib/python3.12/site-packages (from aiohttp<4.0.0,>=3.8.3->langchain-community<0.3.0,>=0.2.10->langchain-experimental>=0.0.6->langchain_cohere) (6.0.5)\n",
      "Requirement already satisfied: yarl<2.0,>=1.0 in /Users/maitarasher/anaconda3/envs/tavily/lib/python3.12/site-packages (from aiohttp<4.0.0,>=3.8.3->langchain-community<0.3.0,>=0.2.10->langchain-experimental>=0.0.6->langchain_cohere) (1.9.4)\n",
      "Requirement already satisfied: marshmallow<4.0.0,>=3.18.0 in /Users/maitarasher/anaconda3/envs/tavily/lib/python3.12/site-packages (from dataclasses-json<0.7,>=0.5.7->langchain-community<0.3.0,>=0.2.10->langchain-experimental>=0.0.6->langchain_cohere) (3.21.3)\n",
      "Requirement already satisfied: typing-inspect<1,>=0.4.0 in /Users/maitarasher/anaconda3/envs/tavily/lib/python3.12/site-packages (from dataclasses-json<0.7,>=0.5.7->langchain-community<0.3.0,>=0.2.10->langchain-experimental>=0.0.6->langchain_cohere) (0.9.0)\n",
      "Requirement already satisfied: filelock in /Users/maitarasher/anaconda3/envs/tavily/lib/python3.12/site-packages (from huggingface-hub<1.0,>=0.16.4->tokenizers<1,>=0.15->cohere<6.0,>=5.5.6->langchain_cohere) (3.15.4)\n",
      "Requirement already satisfied: fsspec>=2023.5.0 in /Users/maitarasher/anaconda3/envs/tavily/lib/python3.12/site-packages (from huggingface-hub<1.0,>=0.16.4->tokenizers<1,>=0.15->cohere<6.0,>=5.5.6->langchain_cohere) (2024.6.1)\n",
      "Requirement already satisfied: tqdm>=4.42.1 in /Users/maitarasher/anaconda3/envs/tavily/lib/python3.12/site-packages (from huggingface-hub<1.0,>=0.16.4->tokenizers<1,>=0.15->cohere<6.0,>=5.5.6->langchain_cohere) (4.66.4)\n",
      "Requirement already satisfied: langchain-text-splitters<0.3.0,>=0.2.0 in /Users/maitarasher/anaconda3/envs/tavily/lib/python3.12/site-packages (from langchain<0.3.0,>=0.2.13->langchain-community<0.3.0,>=0.2.10->langchain-experimental>=0.0.6->langchain_cohere) (0.2.2)\n",
      "Requirement already satisfied: mypy-extensions>=0.3.0 in /Users/maitarasher/anaconda3/envs/tavily/lib/python3.12/site-packages (from typing-inspect<1,>=0.4.0->dataclasses-json<0.7,>=0.5.7->langchain-community<0.3.0,>=0.2.10->langchain-experimental>=0.0.6->langchain_cohere) (1.0.0)\n"
     ]
    }
   ],
   "source": [
    "!pip install langchain_cohere langchain-core langgraph langchain_core python-dotenv"
   ]
  },
  {
   "cell_type": "markdown",
   "metadata": {},
   "source": [
    "## Libraries"
   ]
  },
  {
   "cell_type": "code",
   "execution_count": 2,
   "metadata": {},
   "outputs": [
    {
     "name": "stderr",
     "output_type": "stream",
     "text": [
      "/Users/maitarasher/anaconda3/envs/tavily/lib/python3.12/site-packages/pydantic/_internal/_config.py:341: UserWarning: Valid config keys have changed in V2:\n",
      "* 'allow_population_by_field_name' has been renamed to 'populate_by_name'\n",
      "* 'smart_union' has been removed\n",
      "  warnings.warn(message, UserWarning)\n"
     ]
    }
   ],
   "source": [
    "import os\n",
    "from typing import TypedDict, List, Annotated, Literal\n",
    "from langchain_core.messages import AnyMessage, SystemMessage, HumanMessage, ToolMessage\n",
    "from langchain_cohere.chat_models import ChatCohere\n",
    "from langgraph.graph import StateGraph, START, END, add_messages\n",
    "from langgraph.prebuilt import ToolNode\n",
    "from langchain_core.tools import tool\n",
    "from tavily import AsyncTavilyClient, TavilyClient"
   ]
  },
  {
   "cell_type": "markdown",
   "metadata": {},
   "source": [
    "## Set API KEYS"
   ]
  },
  {
   "cell_type": "code",
   "execution_count": 3,
   "metadata": {},
   "outputs": [],
   "source": [
    "# Set Your API Keys\n",
    "TAVILY_API_KEY = \"YOUR TAIVLY API KEY\"\n",
    "COHERE_API_KEY = \"YOUR COHERE API KEY\"\n",
    "\n",
    "# Or use .env file \n",
    "from dotenv import load_dotenv\n",
    "load_dotenv('.env')\n",
    "\n",
    "TAVILY_API_KEY = os.getenv(\"TAVILY_API_KEY\")\n",
    "COHERE_API_KEY = os.getenv(\"COHERE_API_KEY\")"
   ]
  },
  {
   "cell_type": "code",
   "execution_count": 4,
   "metadata": {},
   "outputs": [],
   "source": [
    "from langchain_core.tools import tool\n",
    "from langgraph.prebuilt import ToolNode\n",
    "from langchain_core.pydantic_v1 import BaseModel, Field\n",
    "\n",
    "\n",
    "class ResearchState(TypedDict):\n",
    "    user_query: str\n",
    "    critique: str\n",
    "    answer: str\n",
    "    documents: List[dict]\n",
    "    web_queries: List[str]\n",
    "    revision_number: int\n",
    "    max_revisions: int\n",
    "    messages: Annotated[list[AnyMessage], add_messages]\n",
    "\n",
    "# class SearchInput(BaseModel):\n",
    "#     query: str = Field(description=\"should be a search query\")\n",
    "#     topic: str = Field(description=\"type of search, should be 'general' or 'news'\")\n",
    "\n",
    "# @tool(\"tavily_search\",args_schema=SearchInput, return_direct=True)\n",
    "# async def tavily_search(query: str, topic: str):\n",
    "#     \"\"\"Perform web search using the Tavily search tool.\"\"\"\n",
    "#     return await tavily_client.search(query=query, topic=topic)\n",
    "\n",
    "#####\n",
    "class SearchInput(BaseModel):\n",
    "    sub_queries: List[str] = Field(description=\"break down the user's input into a set of sub-queries / sub-problems that can be answered in isolation\")\n",
    "    topic: str = Field(description=\"type of search, should be 'general' or 'news'\")\n",
    "\n",
    "@tool(\"tavily_search\",args_schema=SearchInput, return_direct=True)\n",
    "async def tavily_search(sub_queries: List[str], topic: str):\n",
    "    \"\"\"Perform searches for each sub-query using the Tavily search tool.\"\"\"\n",
    "    search_results = []\n",
    "    for sub_query in sub_queries:\n",
    "        results = await tavily_client.search(query=sub_query, topic=topic)\n",
    "        print(results)\n",
    "        search_results.append(results)\n",
    "    print(\"search_results\",search_results)\n",
    "    return search_results\n",
    "\n",
    "\n",
    "tools = [tavily_search]\n",
    "# tool_node = ToolNode(tools)\n",
    "\n",
    "tavily_client = AsyncTavilyClient(api_key=TAVILY_API_KEY)\n",
    "model = ChatCohere(model=\"command-r-plus\", temperature=0).bind_tools(tools)\n",
    "\n",
    "\n",
    "tools_by_name = {tool.name: tool for tool in tools}\n",
    "async def tool_node(state: dict):\n",
    "    result = []\n",
    "    for tool_call in state[\"messages\"][-1].tool_calls:\n",
    "        tool = tools_by_name[tool_call[\"name\"]]\n",
    "        print(tool)\n",
    "        observation = await tool.ainvoke(tool_call[\"args\"])\n",
    "        print(observation)\n",
    "        result.append(ToolMessage(content=observation, tool_call_id=tool_call[\"id\"]))\n",
    "    return {\"messages\": result, \"documents\": result}\n",
    "    \n",
    "        \n",
    "def call_model(state: ResearchState):\n",
    "    messages = state['messages']\n",
    "    response = model.invoke(messages)\n",
    "    # We return a list, because this will get added to the existing list\n",
    "    return {\"messages\": [response]}\n",
    "\n",
    "# Define the function that determines whether to continue or not\n",
    "def should_continue(state: ResearchState) -> Literal[\"tools\", END]:\n",
    "    messages = state['messages']\n",
    "    last_message = messages[-1]\n",
    "    # If the LLM makes a tool call, then we route to the \"tools\" node\n",
    "    if last_message.tool_calls:\n",
    "        return \"tools\"\n",
    "    # Otherwise, we stop (reply to the user)\n",
    "    return END\n",
    "\n",
    "# Define a graph\n",
    "workflow = StateGraph(ResearchState)\n",
    "\n",
    "# Add nodes\n",
    "workflow.add_node(\"route_query\", call_model)\n",
    "workflow.add_node(\"tools\", tool_node)\n",
    "\n",
    "# Set the entrypoint as route_query\n",
    "workflow.set_entry_point(\"route_query\")\n",
    "\n",
    "# Determine which node is called next\n",
    "workflow.add_conditional_edges(\n",
    "    \"route_query\",\n",
    "    # Next, we pass in the function that will determine which node is called next.\n",
    "    should_continue,\n",
    ")\n",
    "\n",
    "# Add a normal edge from `tools` to `route_query`.\n",
    "# This means that after `tools` is called, `route_query` node is called next.\n",
    "workflow.add_edge(\"tools\", \"route_query\")\n",
    "\n",
    "app = workflow.compile()"
   ]
  },
  {
   "cell_type": "code",
   "execution_count": 5,
   "metadata": {},
   "outputs": [
    {
     "name": "stdout",
     "output_type": "stream",
     "text": [
      "================================\u001b[1m Human Message \u001b[0m=================================\n",
      "\n",
      "Wild fire prevention startups, divided by the type of technology\n",
      "==================================\u001b[1m Ai Message \u001b[0m==================================\n",
      "\n",
      "I will search for wildfire prevention startups and then divide the results by the type of technology used.\n",
      "Tool Calls:\n",
      "  tavily_search (afed72ae4e584a7bb83311ada46bef6a)\n",
      " Call ID: afed72ae4e584a7bb83311ada46bef6a\n",
      "  Args:\n",
      "    sub_queries: ['wildfire prevention startups']\n",
      "    topic: general\n",
      "name='tavily_search' description='Perform searches for each sub-query using the Tavily search tool.' args_schema=<class '__main__.SearchInput'> return_direct=True coroutine=<function tavily_search at 0x12fbe9080>\n",
      "{'query': 'wildfire prevention startups', 'follow_up_questions': None, 'answer': None, 'images': [], 'results': [{'title': 'BurnBot raises $20 million to build technology for wildfire prevention', 'url': 'https://www.cnbc.com/2024/04/02/burnbot-raises-20-million-to-build-technology-for-wildfire-prevention.html', 'content': 'BurnBot raised $20 million for technology and services to prevent wildfires. The startup was founded in 2022 and makes remote controlled vehicles that can munch up and burn away invasive plants ...', 'score': 0.9958175, 'raw_content': None}, {'title': 'How Startups Are Solving the Wildfire Problem - and Creating...', 'url': 'https://moneymorning.com/2022/06/17/how-startups-are-solving-the-wildfire-problem-and-creating-lucrative-opportunities/', 'content': 'Buck Jordan explains how startups are developing tech for fighting wildfires, and why it could be the next lucrative trend for angel investors.', 'score': 0.990329, 'raw_content': None}, {'title': 'Meet the autonomous helicopter designed to stop wildfires', 'url': 'https://www.fastcompany.com/91167653/meet-the-autonomous-helicopter-designed-to-stop-wildfires', 'content': 'To help put out wildfires quickly, a startup called Rain is equipping helicopters with software that lets them fly and drop water autonomously.', 'score': 0.9893475, 'raw_content': None}, {'title': 'Wildfire startup puts AI-powered eyes in the forest to watch for new ...', 'url': 'https://www.geekwire.com/2023/wildfire-startup-puts-ai-powered-eyes-in-the-forest-to-watch-for-new-blazes-and-provide-rapid-alerts/', 'content': \"Now there's hope that Pano AI and other technologies flooding the wildfire realm can help prevent and limit wildfire damage. DNR is in discussion with established corporations and startups to ...\", 'score': 0.98840266, 'raw_content': None}, {'title': 'Colorado wildfires: How giant balloons could help to predict future ...', 'url': 'https://www.cnn.com/weather/colorado-wildfires-urban-sky-balloon-c2e-spc/index.html', 'content': 'US startup Urban Sky is launching balloons into the stratosphere to test the technology as an inexpensive way to detect, track, and ultimately prevent the spread of wildfires.', 'score': 0.986828, 'raw_content': None}], 'response_time': 2.17}\n",
      "search_results [{'query': 'wildfire prevention startups', 'follow_up_questions': None, 'answer': None, 'images': [], 'results': [{'title': 'BurnBot raises $20 million to build technology for wildfire prevention', 'url': 'https://www.cnbc.com/2024/04/02/burnbot-raises-20-million-to-build-technology-for-wildfire-prevention.html', 'content': 'BurnBot raised $20 million for technology and services to prevent wildfires. The startup was founded in 2022 and makes remote controlled vehicles that can munch up and burn away invasive plants ...', 'score': 0.9958175, 'raw_content': None}, {'title': 'How Startups Are Solving the Wildfire Problem - and Creating...', 'url': 'https://moneymorning.com/2022/06/17/how-startups-are-solving-the-wildfire-problem-and-creating-lucrative-opportunities/', 'content': 'Buck Jordan explains how startups are developing tech for fighting wildfires, and why it could be the next lucrative trend for angel investors.', 'score': 0.990329, 'raw_content': None}, {'title': 'Meet the autonomous helicopter designed to stop wildfires', 'url': 'https://www.fastcompany.com/91167653/meet-the-autonomous-helicopter-designed-to-stop-wildfires', 'content': 'To help put out wildfires quickly, a startup called Rain is equipping helicopters with software that lets them fly and drop water autonomously.', 'score': 0.9893475, 'raw_content': None}, {'title': 'Wildfire startup puts AI-powered eyes in the forest to watch for new ...', 'url': 'https://www.geekwire.com/2023/wildfire-startup-puts-ai-powered-eyes-in-the-forest-to-watch-for-new-blazes-and-provide-rapid-alerts/', 'content': \"Now there's hope that Pano AI and other technologies flooding the wildfire realm can help prevent and limit wildfire damage. DNR is in discussion with established corporations and startups to ...\", 'score': 0.98840266, 'raw_content': None}, {'title': 'Colorado wildfires: How giant balloons could help to predict future ...', 'url': 'https://www.cnn.com/weather/colorado-wildfires-urban-sky-balloon-c2e-spc/index.html', 'content': 'US startup Urban Sky is launching balloons into the stratosphere to test the technology as an inexpensive way to detect, track, and ultimately prevent the spread of wildfires.', 'score': 0.986828, 'raw_content': None}], 'response_time': 2.17}]\n",
      "[{'query': 'wildfire prevention startups', 'follow_up_questions': None, 'answer': None, 'images': [], 'results': [{'title': 'BurnBot raises $20 million to build technology for wildfire prevention', 'url': 'https://www.cnbc.com/2024/04/02/burnbot-raises-20-million-to-build-technology-for-wildfire-prevention.html', 'content': 'BurnBot raised $20 million for technology and services to prevent wildfires. The startup was founded in 2022 and makes remote controlled vehicles that can munch up and burn away invasive plants ...', 'score': 0.9958175, 'raw_content': None}, {'title': 'How Startups Are Solving the Wildfire Problem - and Creating...', 'url': 'https://moneymorning.com/2022/06/17/how-startups-are-solving-the-wildfire-problem-and-creating-lucrative-opportunities/', 'content': 'Buck Jordan explains how startups are developing tech for fighting wildfires, and why it could be the next lucrative trend for angel investors.', 'score': 0.990329, 'raw_content': None}, {'title': 'Meet the autonomous helicopter designed to stop wildfires', 'url': 'https://www.fastcompany.com/91167653/meet-the-autonomous-helicopter-designed-to-stop-wildfires', 'content': 'To help put out wildfires quickly, a startup called Rain is equipping helicopters with software that lets them fly and drop water autonomously.', 'score': 0.9893475, 'raw_content': None}, {'title': 'Wildfire startup puts AI-powered eyes in the forest to watch for new ...', 'url': 'https://www.geekwire.com/2023/wildfire-startup-puts-ai-powered-eyes-in-the-forest-to-watch-for-new-blazes-and-provide-rapid-alerts/', 'content': \"Now there's hope that Pano AI and other technologies flooding the wildfire realm can help prevent and limit wildfire damage. DNR is in discussion with established corporations and startups to ...\", 'score': 0.98840266, 'raw_content': None}, {'title': 'Colorado wildfires: How giant balloons could help to predict future ...', 'url': 'https://www.cnn.com/weather/colorado-wildfires-urban-sky-balloon-c2e-spc/index.html', 'content': 'US startup Urban Sky is launching balloons into the stratosphere to test the technology as an inexpensive way to detect, track, and ultimately prevent the spread of wildfires.', 'score': 0.986828, 'raw_content': None}], 'response_time': 2.17}]\n",
      "=================================\u001b[1m Tool Message \u001b[0m=================================\n",
      "\n",
      "[{'query': 'wildfire prevention startups', 'follow_up_questions': None, 'answer': None, 'images': [], 'results': [{'title': 'BurnBot raises $20 million to build technology for wildfire prevention', 'url': 'https://www.cnbc.com/2024/04/02/burnbot-raises-20-million-to-build-technology-for-wildfire-prevention.html', 'content': 'BurnBot raised $20 million for technology and services to prevent wildfires. The startup was founded in 2022 and makes remote controlled vehicles that can munch up and burn away invasive plants ...', 'score': 0.9958175, 'raw_content': None}, {'title': 'How Startups Are Solving the Wildfire Problem - and Creating...', 'url': 'https://moneymorning.com/2022/06/17/how-startups-are-solving-the-wildfire-problem-and-creating-lucrative-opportunities/', 'content': 'Buck Jordan explains how startups are developing tech for fighting wildfires, and why it could be the next lucrative trend for angel investors.', 'score': 0.990329, 'raw_content': None}, {'title': 'Meet the autonomous helicopter designed to stop wildfires', 'url': 'https://www.fastcompany.com/91167653/meet-the-autonomous-helicopter-designed-to-stop-wildfires', 'content': 'To help put out wildfires quickly, a startup called Rain is equipping helicopters with software that lets them fly and drop water autonomously.', 'score': 0.9893475, 'raw_content': None}, {'title': 'Wildfire startup puts AI-powered eyes in the forest to watch for new ...', 'url': 'https://www.geekwire.com/2023/wildfire-startup-puts-ai-powered-eyes-in-the-forest-to-watch-for-new-blazes-and-provide-rapid-alerts/', 'content': \"Now there's hope that Pano AI and other technologies flooding the wildfire realm can help prevent and limit wildfire damage. DNR is in discussion with established corporations and startups to ...\", 'score': 0.98840266, 'raw_content': None}, {'title': 'Colorado wildfires: How giant balloons could help to predict future ...', 'url': 'https://www.cnn.com/weather/colorado-wildfires-urban-sky-balloon-c2e-spc/index.html', 'content': 'US startup Urban Sky is launching balloons into the stratosphere to test the technology as an inexpensive way to detect, track, and ultimately prevent the spread of wildfires.', 'score': 0.986828, 'raw_content': None}], 'response_time': 2.17}]\n",
      "==================================\u001b[1m Ai Message \u001b[0m==================================\n",
      "\n",
      "Here are some wildfire prevention startups, divided by the type of technology used:\n",
      "- **Remote-controlled vehicles**: BurnBot, a startup founded in 2022, makes remote-controlled vehicles that can remove invasive plants that fuel wildfires.\n",
      "- **Autonomous helicopters**: Rain, a startup, equips helicopters with software that enables them to fly and drop water autonomously to put out wildfires quickly.\n",
      "- **AI-powered monitoring**: Pano AI is a wildfire startup that uses AI-powered eyes in the forest to watch for new blazes and provide rapid alerts.\n",
      "- **High-altitude balloons**: Urban Sky, a US startup, is launching balloons into the stratosphere to detect, track, and prevent the spread of wildfires.\n"
     ]
    }
   ],
   "source": [
    "messages = [\n",
    "    HumanMessage(\n",
    "        content=\"Wild fire prevention startups, divided by the type of technology\"\n",
    "    )\n",
    "]\n",
    "\n",
    "async for s in app.astream({\"messages\": messages}, stream_mode=\"values\"):\n",
    "    message = s[\"messages\"][-1]\n",
    "    if isinstance(message, tuple):\n",
    "        print(message)\n",
    "    else:\n",
    "        message.pretty_print()\n",
    "\n",
    "# # Use the Runnable\n",
    "# final_state = app.invoke(\n",
    "#     {\"messages\": messages}\n",
    "# )\n",
    "# final_state[\"messages\"][-1].content\n",
    "\n",
    "# for event in app.stream({\"messages\": messages}):\n",
    "#     for v in event.values():\n",
    "#         print(v)"
   ]
  },
  {
   "cell_type": "code",
   "execution_count": null,
   "metadata": {},
   "outputs": [],
   "source": [
    "        # tool descriptions that the model has access to\n",
    "        # tools = [\n",
    "        #    {\n",
    "        #        \"name\": \"tavily_search\",\n",
    "        #        \"description\": \"Connect to a general/news web search engine to gather more information on user's query\",\n",
    "        #        \"parameter_definitions\": {\n",
    "        #            \"type\": {\n",
    "        #                \"description\": \"type of search to run, 'general', 'news' or both\",\n",
    "        #                \"type\": \"str\",\n",
    "        #                \"required\": True\n",
    "        #            }\n",
    "        #        }\n",
    "        #    }\n",
    "        # ]"
   ]
  }
 ],
 "metadata": {
  "anaconda-cloud": "",
  "colab": {
   "collapsed_sections": [
    "v1a8tvFOW9hX",
    "XUJuVVjV70y9",
    "2SBektD48VjA"
   ],
   "provenance": []
  },
  "kernelspec": {
   "display_name": "Python 3 (ipykernel)",
   "language": "python",
   "name": "python3"
  },
  "language_info": {
   "codemirror_mode": {
    "name": "ipython",
    "version": 3
   },
   "file_extension": ".py",
   "mimetype": "text/x-python",
   "name": "python",
   "nbconvert_exporter": "python",
   "pygments_lexer": "ipython3",
   "version": "3.12.4"
  },
  "varInspector": {
   "cols": {
    "lenName": 16,
    "lenType": 16,
    "lenVar": 40
   },
   "kernels_config": {
    "python": {
     "delete_cmd_postfix": "",
     "delete_cmd_prefix": "del ",
     "library": "var_list.py",
     "varRefreshCmd": "print(var_dic_list())"
    },
    "r": {
     "delete_cmd_postfix": ") ",
     "delete_cmd_prefix": "rm(",
     "library": "var_list.r",
     "varRefreshCmd": "cat(var_dic_list()) "
    }
   },
   "types_to_exclude": [
    "module",
    "function",
    "builtin_function_or_method",
    "instance",
    "_Feature"
   ],
   "window_display": false
  }
 },
 "nbformat": 4,
 "nbformat_minor": 4
}
