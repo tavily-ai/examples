{
 "cells": [
  {
   "cell_type": "markdown",
   "metadata": {
    "id": "vVdtcEDEW9hU"
   },
   "source": [
    "# Notebook App for Agentic Research Assistant Agent Using Tavily, LangGrpah and Cohere Command R+ model"
   ]
  },
  {
   "cell_type": "markdown",
   "metadata": {},
   "source": [
    "## Requirements"
   ]
  },
  {
   "cell_type": "code",
   "execution_count": null,
   "metadata": {},
   "outputs": [],
   "source": [
    "!pip install langchain_cohere langchain-core langgraph langchain_core python-dotenv"
   ]
  },
  {
   "cell_type": "markdown",
   "metadata": {},
   "source": [
    "## Libraries"
   ]
  },
  {
   "cell_type": "code",
   "execution_count": 2,
   "metadata": {},
   "outputs": [
    {
     "name": "stderr",
     "output_type": "stream",
     "text": [
      "/Users/maitarasher/anaconda3/envs/tavily/lib/python3.12/site-packages/pydantic/_internal/_config.py:341: UserWarning: Valid config keys have changed in V2:\n",
      "* 'allow_population_by_field_name' has been renamed to 'populate_by_name'\n",
      "* 'smart_union' has been removed\n",
      "  warnings.warn(message, UserWarning)\n"
     ]
    }
   ],
   "source": [
    "import os\n",
    "from typing import TypedDict, List, Annotated, Literal\n",
    "from langchain_core.messages import AnyMessage, SystemMessage, HumanMessage, ToolMessage\n",
    "from langchain_cohere.chat_models import ChatCohere\n",
    "from langgraph.graph import StateGraph, START, END, add_messages\n",
    "from langgraph.prebuilt import ToolNode\n",
    "from langchain_core.tools import tool\n",
    "from tavily import AsyncTavilyClient, TavilyClient"
   ]
  },
  {
   "cell_type": "markdown",
   "metadata": {},
   "source": [
    "## Set API KEYS"
   ]
  },
  {
   "cell_type": "code",
   "execution_count": 3,
   "metadata": {},
   "outputs": [],
   "source": [
    "# Set Your API Keys\n",
    "TAVILY_API_KEY = \"YOUR TAIVLY API KEY\"\n",
    "COHERE_API_KEY = \"YOUR COHERE API KEY\"\n",
    "\n",
    "# Or use .env file \n",
    "from dotenv import load_dotenv\n",
    "load_dotenv('.env')\n",
    "\n",
    "TAVILY_API_KEY = os.getenv(\"TAVILY_API_KEY\")\n",
    "COHERE_API_KEY = os.getenv(\"COHERE_API_KEY\")"
   ]
  },
  {
   "cell_type": "code",
   "execution_count": 4,
   "metadata": {},
   "outputs": [],
   "source": [
    "from langchain_core.tools import tool\n",
    "from langgraph.prebuilt import ToolNode\n",
    "from langchain_core.pydantic_v1 import BaseModel, Field\n",
    "\n",
    "\n",
    "class ResearchState(TypedDict):\n",
    "    user_query: str\n",
    "    critique: str\n",
    "    answer: str\n",
    "    documents: List[dict]\n",
    "    web_queries: List[str]\n",
    "    revision_number: int\n",
    "    max_revisions: int\n",
    "    messages: Annotated[list[AnyMessage], add_messages]\n",
    "\n",
    "# class SearchInput(BaseModel):\n",
    "#     query: str = Field(description=\"should be a search query\")\n",
    "#     topic: str = Field(description=\"type of search, should be 'general' or 'news'\")\n",
    "\n",
    "# @tool(\"tavily_search\",args_schema=SearchInput, return_direct=True)\n",
    "# async def tavily_search(query: str, topic: str):\n",
    "#     \"\"\"Perform web search using the Tavily search tool.\"\"\"\n",
    "#     return await tavily_client.search(query=query, topic=topic)\n",
    "\n",
    "#####\n",
    "class SearchInput(BaseModel):\n",
    "    sub_queries: List[str] = Field(description=\"break down the user's input into a set of sub-queries / sub-problems that can be answered in isolation\")\n",
    "    topic: str = Field(description=\"type of search, should be 'general' or 'news'\")\n",
    "\n",
    "@tool(\"tavily_search\",args_schema=SearchInput, return_direct=True)\n",
    "async def tavily_search(sub_queries: List[str], topic: str):\n",
    "    \"\"\"Perform searches for each sub-query using the Tavily search tool.\"\"\"\n",
    "    search_results = []\n",
    "    for sub_query in sub_queries:\n",
    "        results = await tavily_client.search(query=sub_query, topic=topic)\n",
    "        print(results)\n",
    "        search_results.append(results)\n",
    "    print(\"search_results\",search_results)\n",
    "    return search_results\n",
    "\n",
    "\n",
    "tools = [tavily_search]\n",
    "# tool_node = ToolNode(tools)\n",
    "\n",
    "tavily_client = AsyncTavilyClient(api_key=TAVILY_API_KEY)\n",
    "model = ChatCohere(model=\"command-r-plus\", temperature=0).bind_tools(tools)\n",
    "\n",
    "\n",
    "tools_by_name = {tool.name: tool for tool in tools}\n",
    "async def tool_node(state: dict):\n",
    "    result = []\n",
    "    for tool_call in state[\"messages\"][-1].tool_calls:\n",
    "        tool = tools_by_name[tool_call[\"name\"]]\n",
    "        print(tool)\n",
    "        observation = await tool.ainvoke(tool_call[\"args\"])\n",
    "        print(observation)\n",
    "        result.append(ToolMessage(content=observation, tool_call_id=tool_call[\"id\"]))\n",
    "    return {\"messages\": result, \"documents\": result}\n",
    "    \n",
    "        \n",
    "def call_model(state: ResearchState):\n",
    "    messages = state['messages']\n",
    "    response = model.invoke(messages)\n",
    "    # We return a list, because this will get added to the existing list\n",
    "    return {\"messages\": [response]}\n",
    "\n",
    "# Define the function that determines whether to continue or not\n",
    "def should_continue(state: ResearchState) -> Literal[\"tools\", END]:\n",
    "    messages = state['messages']\n",
    "    last_message = messages[-1]\n",
    "    # If the LLM makes a tool call, then we route to the \"tools\" node\n",
    "    if last_message.tool_calls:\n",
    "        return \"tools\"\n",
    "    # Otherwise, we stop (reply to the user)\n",
    "    return END\n",
    "\n",
    "# Define a graph\n",
    "workflow = StateGraph(ResearchState)\n",
    "\n",
    "# Add nodes\n",
    "workflow.add_node(\"route_query\", call_model)\n",
    "workflow.add_node(\"tools\", tool_node)\n",
    "\n",
    "# Set the entrypoint as route_query\n",
    "workflow.set_entry_point(\"route_query\")\n",
    "\n",
    "# Determine which node is called next\n",
    "workflow.add_conditional_edges(\n",
    "    \"route_query\",\n",
    "    # Next, we pass in the function that will determine which node is called next.\n",
    "    should_continue,\n",
    ")\n",
    "\n",
    "# Add a normal edge from `tools` to `route_query`.\n",
    "# This means that after `tools` is called, `route_query` node is called next.\n",
    "workflow.add_edge(\"tools\", \"route_query\")\n",
    "\n",
    "app = workflow.compile()"
   ]
  },
  {
   "cell_type": "code",
   "execution_count": 5,
   "metadata": {},
   "outputs": [
    {
     "name": "stdout",
     "output_type": "stream",
     "text": [
      "================================\u001b[1m Human Message \u001b[0m=================================\n",
      "\n",
      "Wild fire prevention startups, divided by the type of technology\n",
      "==================================\u001b[1m Ai Message \u001b[0m==================================\n",
      "\n",
      "I will search for wildfire prevention startups and then divide the results by the type of technology used.\n",
      "Tool Calls:\n",
      "  tavily_search (afed72ae4e584a7bb83311ada46bef6a)\n",
      " Call ID: afed72ae4e584a7bb83311ada46bef6a\n",
      "  Args:\n",
      "    sub_queries: ['wildfire prevention startups']\n",
      "    topic: general\n",
      "name='tavily_search' description='Perform searches for each sub-query using the Tavily search tool.' args_schema=<class '__main__.SearchInput'> return_direct=True coroutine=<function tavily_search at 0x12fbe9080>\n",
      "{'query': 'wildfire prevention startups', 'follow_up_questions': None, 'answer': None, 'images': [], 'results': [{'title': 'BurnBot raises $20 million to build technology for wildfire prevention', 'url': 'https://www.cnbc.com/2024/04/02/burnbot-raises-20-million-to-build-technology-for-wildfire-prevention.html', 'content': 'BurnBot raised $20 million for technology and services to prevent wildfires. The startup was founded in 2022 and makes remote controlled vehicles that can munch up and burn away invasive plants ...', 'score': 0.9958175, 'raw_content': None}, {'title': 'How Startups Are Solving the Wildfire Problem - and Creating...', 'url': 'https://moneymorning.com/2022/06/17/how-startups-are-solving-the-wildfire-problem-and-creating-lucrative-opportunities/', 'content': 'Buck Jordan explains how startups are developing tech for fighting wildfires, and why it could be the next lucrative trend for angel investors.', 'score': 0.990329, 'raw_content': None}, {'title': 'Meet the autonomous helicopter designed to stop wildfires', 'url': 'https://www.fastcompany.com/91167653/meet-the-autonomous-helicopter-designed-to-stop-wildfires', 'content': 'To help put out wildfires quickly, a startup called Rain is equipping helicopters with software that lets them fly and drop water autonomously.', 'score': 0.9893475, 'raw_content': None}, {'title': 'Wildfire startup puts AI-powered eyes in the forest to watch for new ...', 'url': 'https://www.geekwire.com/2023/wildfire-startup-puts-ai-powered-eyes-in-the-forest-to-watch-for-new-blazes-and-provide-rapid-alerts/', 'content': \"Now there's hope that Pano AI and other technologies flooding the wildfire realm can help prevent and limit wildfire damage. DNR is in discussion with established corporations and startups to ...\", 'score': 0.98840266, 'raw_content': None}, {'title': 'Colorado wildfires: How giant balloons could help to predict future ...', 'url': 'https://www.cnn.com/weather/colorado-wildfires-urban-sky-balloon-c2e-spc/index.html', 'content': 'US startup Urban Sky is launching balloons into the stratosphere to test the technology as an inexpensive way to detect, track, and ultimately prevent the spread of wildfires.', 'score': 0.986828, 'raw_content': None}], 'response_time': 2.17}\n",
      "search_results [{'query': 'wildfire prevention startups', 'follow_up_questions': None, 'answer': None, 'images': [], 'results': [{'title': 'BurnBot raises $20 million to build technology for wildfire prevention', 'url': 'https://www.cnbc.com/2024/04/02/burnbot-raises-20-million-to-build-technology-for-wildfire-prevention.html', 'content': 'BurnBot raised $20 million for technology and services to prevent wildfires. The startup was founded in 2022 and makes remote controlled vehicles that can munch up and burn away invasive plants ...', 'score': 0.9958175, 'raw_content': None}, {'title': 'How Startups Are Solving the Wildfire Problem - and Creating...', 'url': 'https://moneymorning.com/2022/06/17/how-startups-are-solving-the-wildfire-problem-and-creating-lucrative-opportunities/', 'content': 'Buck Jordan explains how startups are developing tech for fighting wildfires, and why it could be the next lucrative trend for angel investors.', 'score': 0.990329, 'raw_content': None}, {'title': 'Meet the autonomous helicopter designed to stop wildfires', 'url': 'https://www.fastcompany.com/91167653/meet-the-autonomous-helicopter-designed-to-stop-wildfires', 'content': 'To help put out wildfires quickly, a startup called Rain is equipping helicopters with software that lets them fly and drop water autonomously.', 'score': 0.9893475, 'raw_content': None}, {'title': 'Wildfire startup puts AI-powered eyes in the forest to watch for new ...', 'url': 'https://www.geekwire.com/2023/wildfire-startup-puts-ai-powered-eyes-in-the-forest-to-watch-for-new-blazes-and-provide-rapid-alerts/', 'content': \"Now there's hope that Pano AI and other technologies flooding the wildfire realm can help prevent and limit wildfire damage. DNR is in discussion with established corporations and startups to ...\", 'score': 0.98840266, 'raw_content': None}, {'title': 'Colorado wildfires: How giant balloons could help to predict future ...', 'url': 'https://www.cnn.com/weather/colorado-wildfires-urban-sky-balloon-c2e-spc/index.html', 'content': 'US startup Urban Sky is launching balloons into the stratosphere to test the technology as an inexpensive way to detect, track, and ultimately prevent the spread of wildfires.', 'score': 0.986828, 'raw_content': None}], 'response_time': 2.17}]\n",
      "[{'query': 'wildfire prevention startups', 'follow_up_questions': None, 'answer': None, 'images': [], 'results': [{'title': 'BurnBot raises $20 million to build technology for wildfire prevention', 'url': 'https://www.cnbc.com/2024/04/02/burnbot-raises-20-million-to-build-technology-for-wildfire-prevention.html', 'content': 'BurnBot raised $20 million for technology and services to prevent wildfires. The startup was founded in 2022 and makes remote controlled vehicles that can munch up and burn away invasive plants ...', 'score': 0.9958175, 'raw_content': None}, {'title': 'How Startups Are Solving the Wildfire Problem - and Creating...', 'url': 'https://moneymorning.com/2022/06/17/how-startups-are-solving-the-wildfire-problem-and-creating-lucrative-opportunities/', 'content': 'Buck Jordan explains how startups are developing tech for fighting wildfires, and why it could be the next lucrative trend for angel investors.', 'score': 0.990329, 'raw_content': None}, {'title': 'Meet the autonomous helicopter designed to stop wildfires', 'url': 'https://www.fastcompany.com/91167653/meet-the-autonomous-helicopter-designed-to-stop-wildfires', 'content': 'To help put out wildfires quickly, a startup called Rain is equipping helicopters with software that lets them fly and drop water autonomously.', 'score': 0.9893475, 'raw_content': None}, {'title': 'Wildfire startup puts AI-powered eyes in the forest to watch for new ...', 'url': 'https://www.geekwire.com/2023/wildfire-startup-puts-ai-powered-eyes-in-the-forest-to-watch-for-new-blazes-and-provide-rapid-alerts/', 'content': \"Now there's hope that Pano AI and other technologies flooding the wildfire realm can help prevent and limit wildfire damage. DNR is in discussion with established corporations and startups to ...\", 'score': 0.98840266, 'raw_content': None}, {'title': 'Colorado wildfires: How giant balloons could help to predict future ...', 'url': 'https://www.cnn.com/weather/colorado-wildfires-urban-sky-balloon-c2e-spc/index.html', 'content': 'US startup Urban Sky is launching balloons into the stratosphere to test the technology as an inexpensive way to detect, track, and ultimately prevent the spread of wildfires.', 'score': 0.986828, 'raw_content': None}], 'response_time': 2.17}]\n",
      "=================================\u001b[1m Tool Message \u001b[0m=================================\n",
      "\n",
      "[{'query': 'wildfire prevention startups', 'follow_up_questions': None, 'answer': None, 'images': [], 'results': [{'title': 'BurnBot raises $20 million to build technology for wildfire prevention', 'url': 'https://www.cnbc.com/2024/04/02/burnbot-raises-20-million-to-build-technology-for-wildfire-prevention.html', 'content': 'BurnBot raised $20 million for technology and services to prevent wildfires. The startup was founded in 2022 and makes remote controlled vehicles that can munch up and burn away invasive plants ...', 'score': 0.9958175, 'raw_content': None}, {'title': 'How Startups Are Solving the Wildfire Problem - and Creating...', 'url': 'https://moneymorning.com/2022/06/17/how-startups-are-solving-the-wildfire-problem-and-creating-lucrative-opportunities/', 'content': 'Buck Jordan explains how startups are developing tech for fighting wildfires, and why it could be the next lucrative trend for angel investors.', 'score': 0.990329, 'raw_content': None}, {'title': 'Meet the autonomous helicopter designed to stop wildfires', 'url': 'https://www.fastcompany.com/91167653/meet-the-autonomous-helicopter-designed-to-stop-wildfires', 'content': 'To help put out wildfires quickly, a startup called Rain is equipping helicopters with software that lets them fly and drop water autonomously.', 'score': 0.9893475, 'raw_content': None}, {'title': 'Wildfire startup puts AI-powered eyes in the forest to watch for new ...', 'url': 'https://www.geekwire.com/2023/wildfire-startup-puts-ai-powered-eyes-in-the-forest-to-watch-for-new-blazes-and-provide-rapid-alerts/', 'content': \"Now there's hope that Pano AI and other technologies flooding the wildfire realm can help prevent and limit wildfire damage. DNR is in discussion with established corporations and startups to ...\", 'score': 0.98840266, 'raw_content': None}, {'title': 'Colorado wildfires: How giant balloons could help to predict future ...', 'url': 'https://www.cnn.com/weather/colorado-wildfires-urban-sky-balloon-c2e-spc/index.html', 'content': 'US startup Urban Sky is launching balloons into the stratosphere to test the technology as an inexpensive way to detect, track, and ultimately prevent the spread of wildfires.', 'score': 0.986828, 'raw_content': None}], 'response_time': 2.17}]\n",
      "==================================\u001b[1m Ai Message \u001b[0m==================================\n",
      "\n",
      "Here are some wildfire prevention startups, divided by the type of technology used:\n",
      "- **Remote-controlled vehicles**: BurnBot, a startup founded in 2022, makes remote-controlled vehicles that can remove invasive plants that fuel wildfires.\n",
      "- **Autonomous helicopters**: Rain, a startup, equips helicopters with software that enables them to fly and drop water autonomously to put out wildfires quickly.\n",
      "- **AI-powered monitoring**: Pano AI is a wildfire startup that uses AI-powered eyes in the forest to watch for new blazes and provide rapid alerts.\n",
      "- **High-altitude balloons**: Urban Sky, a US startup, is launching balloons into the stratosphere to detect, track, and prevent the spread of wildfires.\n"
     ]
    }
   ],
   "source": [
    "messages = [\n",
    "    HumanMessage(\n",
    "        content=\"Wild fire prevention startups, divided by the type of technology\"\n",
    "    )\n",
    "]\n",
    "\n",
    "async for s in app.astream({\"messages\": messages}, stream_mode=\"values\"):\n",
    "    message = s[\"messages\"][-1]\n",
    "    if isinstance(message, tuple):\n",
    "        print(message)\n",
    "    else:\n",
    "        message.pretty_print()\n",
    "\n",
    "# # Use the Runnable\n",
    "# final_state = app.invoke(\n",
    "#     {\"messages\": messages}\n",
    "# )\n",
    "# final_state[\"messages\"][-1].content\n",
    "\n",
    "# for event in app.stream({\"messages\": messages}):\n",
    "#     for v in event.values():\n",
    "#         print(v)"
   ]
  },
  {
   "cell_type": "code",
   "execution_count": null,
   "metadata": {},
   "outputs": [],
   "source": [
    "        # tool descriptions that the model has access to\n",
    "        # tools = [\n",
    "        #    {\n",
    "        #        \"name\": \"tavily_search\",\n",
    "        #        \"description\": \"Connect to a general/news web search engine to gather more information on user's query\",\n",
    "        #        \"parameter_definitions\": {\n",
    "        #            \"type\": {\n",
    "        #                \"description\": \"type of search to run, 'general', 'news' or both\",\n",
    "        #                \"type\": \"str\",\n",
    "        #                \"required\": True\n",
    "        #            }\n",
    "        #        }\n",
    "        #    }\n",
    "        # ]"
   ]
  }
 ],
 "metadata": {
  "anaconda-cloud": "",
  "colab": {
   "collapsed_sections": [
    "v1a8tvFOW9hX",
    "XUJuVVjV70y9",
    "2SBektD48VjA"
   ],
   "provenance": []
  },
  "kernelspec": {
   "display_name": "Python 3 (ipykernel)",
   "language": "python",
   "name": "python3"
  },
  "language_info": {
   "codemirror_mode": {
    "name": "ipython",
    "version": 3
   },
   "file_extension": ".py",
   "mimetype": "text/x-python",
   "name": "python",
   "nbconvert_exporter": "python",
   "pygments_lexer": "ipython3",
   "version": "3.12.4"
  },
  "varInspector": {
   "cols": {
    "lenName": 16,
    "lenType": 16,
    "lenVar": 40
   },
   "kernels_config": {
    "python": {
     "delete_cmd_postfix": "",
     "delete_cmd_prefix": "del ",
     "library": "var_list.py",
     "varRefreshCmd": "print(var_dic_list())"
    },
    "r": {
     "delete_cmd_postfix": ") ",
     "delete_cmd_prefix": "rm(",
     "library": "var_list.r",
     "varRefreshCmd": "cat(var_dic_list()) "
    }
   },
   "types_to_exclude": [
    "module",
    "function",
    "builtin_function_or_method",
    "instance",
    "_Feature"
   ],
   "window_display": false
  }
 },
 "nbformat": 4,
 "nbformat_minor": 4
}
